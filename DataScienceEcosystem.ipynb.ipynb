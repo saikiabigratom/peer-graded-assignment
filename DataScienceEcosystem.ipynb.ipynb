{
 "cells": [
  {
   "cell_type": "markdown",
   "id": "ddcda01c-4d09-40b7-8889-8311c6515ce0",
   "metadata": {
    "tags": []
   },
   "source": [
    "# Exercise 2\n",
    "## Notebook Title\n"
   ]
  },
  {
   "cell_type": "markdown",
   "id": "d3851b90-c6da-426c-b6c2-0fc995a55b99",
   "metadata": {},
   "source": [
    "# Exercise 3\n",
    "## Introduction\n",
    "This notebook explores various aspects of data science.\n"
   ]
  },
  {
   "cell_type": "markdown",
   "id": "3ed571d6-5372-4e0b-a728-8a9b629ccba0",
   "metadata": {},
   "source": [
    "# Exercise 4\n",
    "## Data Science Languages\n",
    "- Python\n",
    "- R\n",
    "- Julia\n"
   ]
  },
  {
   "cell_type": "markdown",
   "id": "69dac198-81f3-4a89-970b-f658b50e9ea9",
   "metadata": {},
   "source": [
    "# Exercise 5\n",
    "## Data Science Libraries\n",
    "- Pandas\n",
    "- NumPy\n",
    "- Matplotlib\n"
   ]
  },
  {
   "cell_type": "markdown",
   "id": "8e0f24d1-4f57-4257-8d1d-c18d1d80f1bb",
   "metadata": {},
   "source": [
    "# Exercise 6\n",
    "## Data Science Tools Table\n",
    "\n",
    "| Tool              | Purpose                       |\n",
    "|-------------------|-------------------------------|\n",
    "| Jupyter Notebook  | Interactive data analysis     |\n",
    "| RStudio           | Integrated development for R   |\n",
    "| TensorFlow        | Machine learning framework    |\n",
    "| scikit-learn      | Machine learning in Python    |\n",
    "| Tableau           | Data visualization           |\n"
   ]
  },
  {
   "cell_type": "markdown",
   "id": "265a9e0f-1dde-4ff5-9ae2-b95dc40db61a",
   "metadata": {},
   "source": [
    "# Exercise 7\n",
    "## Arithmetic Expression Examples\n"
   ]
  },
  {
   "cell_type": "markdown",
   "id": "cc90096d-d470-4dec-b900-b1df38b709f2",
   "metadata": {},
   "source": [
    "# Exercise 8\n",
    "## Multiply and Addition\n"
   ]
  },
  {
   "cell_type": "code",
   "execution_count": 2,
   "id": "5e984440-8e46-4a4e-9e44-481bed1127f1",
   "metadata": {
    "tags": []
   },
   "outputs": [
    {
     "name": "stdout",
     "output_type": "stream",
     "text": [
      "25\n"
     ]
    }
   ],
   "source": [
    "# Exercise 8\n",
    "# Multiply and add numbers\n",
    "result = 5 * 3 + 10\n",
    "print(result)\n"
   ]
  },
  {
   "cell_type": "markdown",
   "id": "81166f4c-61b1-4b0a-82d3-de07a0d10266",
   "metadata": {},
   "source": [
    "# Exercise 9\n",
    "## Convert minutes to hours\n"
   ]
  },
  {
   "cell_type": "code",
   "execution_count": 3,
   "id": "b0e0cd92-e764-4a7e-b644-44be7ee1a918",
   "metadata": {
    "tags": []
   },
   "outputs": [
    {
     "name": "stdout",
     "output_type": "stream",
     "text": [
      "2.0\n"
     ]
    }
   ],
   "source": [
    "# Exercise 9\n",
    "# Convert minutes to hours\n",
    "minutes = 120\n",
    "hours = minutes / 60\n",
    "print(hours)\n"
   ]
  },
  {
   "cell_type": "markdown",
   "id": "09a278ab-1187-4740-8b5f-30d94a8d02b5",
   "metadata": {},
   "source": [
    "# Exercise 10\n",
    "## Objectives\n",
    "1. Explore data science languages.\n",
    "2. Understand popular data science libraries.\n",
    "3. Work with arithmetic expressions in Python.\n"
   ]
  },
  {
   "cell_type": "markdown",
   "id": "5cad9d53-a2d4-4d67-8b86-b97397ca3ccc",
   "metadata": {},
   "source": [
    "# Exercise 11\n",
    "## Author\n",
    "BIGRATOM SAIKIA\n"
   ]
  },
  {
   "cell_type": "code",
   "execution_count": null,
   "id": "47c30679-2f1c-41e5-90ab-908a4f2ecb49",
   "metadata": {},
   "outputs": [],
   "source": []
  }
 ],
 "metadata": {
  "kernelspec": {
   "display_name": "Python",
   "language": "python",
   "name": "conda-env-python-py"
  },
  "language_info": {
   "codemirror_mode": {
    "name": "ipython",
    "version": 3
   },
   "file_extension": ".py",
   "mimetype": "text/x-python",
   "name": "python",
   "nbconvert_exporter": "python",
   "pygments_lexer": "ipython3",
   "version": "3.7.12"
  }
 },
 "nbformat": 4,
 "nbformat_minor": 5
}
